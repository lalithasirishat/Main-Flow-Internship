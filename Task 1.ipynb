{
 "cells": [
  {
   "cell_type": "code",
   "execution_count": 25,
   "id": "b164b5f5-14e1-4a83-919f-0c6d0b84bdf8",
   "metadata": {},
   "outputs": [
    {
     "name": "stdout",
     "output_type": "stream",
     "text": [
      "1\n",
      "2\n",
      "[1, 2, 3, 4, 7]\n",
      "[1, 3, 4, 7]\n",
      "[12, 3, 4, 7]\n",
      "['Red', 'Green', 'Blue']\n",
      "['Hello', 'World', 'Python', 'Programming']\n",
      "[100, 200, 300, 400, 100, 200, 300, 400]\n",
      "[12, 3, 4, 7, 'Red', 'Green', 'Blue']\n",
      "['Alice', 'Betty', 'Claire', 'Jack', 'Deepak']\n",
      "7\n",
      "['Deepak', 'Claire', 'Betty', 'Alice']\n"
     ]
    }
   ],
   "source": [
    "#LIST\n",
    "#Creation of list \n",
    "list1=[1,2,3,4]\n",
    "print(list1[0])\n",
    "print(list1[1])\n",
    "\n",
    "list1.append(7)  #adding an element to the list\n",
    "print(list1)\n",
    "\n",
    "list1.remove(2)  #removing an element from the list\n",
    "print(list1)\n",
    "\n",
    "list1[0]=12      #modifying an element in the list\n",
    "print(list1)\n",
    "\n",
    "#List concatenation using '+' operation\n",
    "#adding two lists \n",
    "list2=['Red','Green']\n",
    "list3=[10,20,30]\n",
    "\n",
    "list2=list2+['Blue']  \n",
    "print(list2)\n",
    "\n",
    "list4=['Hello','World']+['Python','Programming']\n",
    "print(list4)\n",
    "\n",
    "#Repetition operation in lists\n",
    "list5=[100,200,300,400]\n",
    "print(list5*2)\n",
    "\n",
    "#extend() function\n",
    "list1.extend(list2)\n",
    "print(list1)\n",
    "\n",
    "#insert() function\n",
    "names=['Alice','Betty','Claire','Deepak']\n",
    "names.insert(3,'Jack')\n",
    "print(names)\n",
    "\n",
    "#len() function\n",
    "print(len(list1))\n",
    "\n",
    "#reverse() function\n",
    "names=['Alice','Betty','Claire','Deepak']\n",
    "names.reverse()\n",
    "print(names)"
   ]
  },
  {
   "cell_type": "code",
   "execution_count": 26,
   "id": "4e0d44ba-f77b-40d3-ac9c-a8347f00fd10",
   "metadata": {},
   "outputs": [
    {
     "name": "stdout",
     "output_type": "stream",
     "text": [
      "1\n",
      "{'a': 1, 'b': 2, 'c': 3, 'd': 7}\n",
      "{'a': 1, 'c': 3, 'd': 7}\n",
      "{'a': 12, 'c': 3, 'd': 7}\n",
      "{'x': 'Red', 'y': 'Green', 'z': 'Blue'}\n",
      "{'p': 'Hello', 'q': 'World', 'r': 'Python', 's': 'Programming'}\n",
      "{'a': 12, 'c': 3, 'd': 7, 'x': 'Red', 'y': 'Green', 'z': 'Blue'}\n",
      "6\n"
     ]
    }
   ],
   "source": [
    "#DICTIONARY\n",
    "# Creation of dictionary\n",
    "dict1 = {'a': 1, 'b': 2, 'c': 3}\n",
    "print(dict1['a'])  # Accessing value using key\n",
    "\n",
    "dict1['d'] = 7  # Adding a new key-value pair\n",
    "print(dict1)\n",
    "\n",
    "del dict1['b']  # Removing a key-value pair\n",
    "print(dict1)\n",
    "\n",
    "dict1['a'] = 12  # Modifying the value associated with a key\n",
    "print(dict1)\n",
    "\n",
    "# Dictionary concatenation using update() method\n",
    "dict2 = {'x': 'Red', 'y': 'Green'}\n",
    "dict3 = {'m': 10, 'n': 20, 'o': 30}\n",
    "\n",
    "dict2.update({'z': 'Blue'})  # Adding a new key-value pair\n",
    "print(dict2)\n",
    "\n",
    "dict4 = {'p': 'Hello', 'q': 'World'}\n",
    "dict4.update({'r': 'Python', 's': 'Programming'})\n",
    "print(dict4)\n",
    "\n",
    "# merge() function \n",
    "dict1.update(dict2)\n",
    "print(dict1)\n",
    "\n",
    "# len() function\n",
    "print(len(dict1))"
   ]
  },
  {
   "cell_type": "code",
   "execution_count": 27,
   "id": "6e84890e-bd8e-4de6-ac7a-c948792fefaf",
   "metadata": {},
   "outputs": [
    {
     "name": "stdout",
     "output_type": "stream",
     "text": [
      "{1, 2, 3, 4}\n",
      "{1, 2, 3, 4, 7}\n",
      "{1, 3, 4, 7}\n",
      "{'Green', 'Red', 'Blue'}\n",
      "{'Programming', 'World', 'Hello', 'Python'}\n",
      "{1, 'Green', 3, 4, 7, 'Blue', 'Red'}\n",
      "7\n"
     ]
    }
   ],
   "source": [
    "# Creation of set\n",
    "set1 = {1, 2, 3, 4}\n",
    "print(set1)  # Sets are unordered, so the order of elements may vary\n",
    "\n",
    "# Adding elements to a set\n",
    "set1.add(7)\n",
    "print(set1)\n",
    "\n",
    "# Removing elements from a set\n",
    "set1.remove(2)\n",
    "print(set1)\n",
    "\n",
    "# Set union using '|' operator or union() method\n",
    "set2 = {'Red', 'Green'}\n",
    "set3 = {10, 20, 30}\n",
    "\n",
    "set2 = set2 | {'Blue'}  # Adding an element to the set\n",
    "print(set2)\n",
    "\n",
    "set4 = {'Hello', 'World'} | {'Python', 'Programming'}\n",
    "print(set4)\n",
    "\n",
    "# merge() function (similar to extend() for lists)\n",
    "set1.update(set2)\n",
    "print(set1)\n",
    "\n",
    "# len() function\n",
    "print(len(set1))\n"
   ]
  },
  {
   "cell_type": "code",
   "execution_count": null,
   "id": "479b0a06-f1f4-4c1b-8b17-875880a33625",
   "metadata": {},
   "outputs": [],
   "source": []
  }
 ],
 "metadata": {
  "kernelspec": {
   "display_name": "Python 3 (ipykernel)",
   "language": "python",
   "name": "python3"
  },
  "language_info": {
   "codemirror_mode": {
    "name": "ipython",
    "version": 3
   },
   "file_extension": ".py",
   "mimetype": "text/x-python",
   "name": "python",
   "nbconvert_exporter": "python",
   "pygments_lexer": "ipython3",
   "version": "3.12.3"
  }
 },
 "nbformat": 4,
 "nbformat_minor": 5
}
